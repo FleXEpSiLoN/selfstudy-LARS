{
 "cells": [
  {
   "cell_type": "markdown",
   "metadata": {},
   "source": [
    "# LARS\n",
    "\n",
    "LARS is an efficient method for calculating sparse Lasso coefficients.  It determines them piece-wise, rather than needing an incremental approach (cf stagewise), or taking potentially overly large steps (cf forward selection).  LARS itself gives a slightly different solution than Lasso, but can be modified very slightly to give the Lasso solution.\n",
    "\n",
    "## Lasso\n",
    "\n",
    "Lasso gives a sparse solution to a regression problem.  It can be viewed either as a solution to the constrained problem, where `sum(abs(coefficients)) <= k`, or as a solution to the regularized loss, via the Lagrangian dual, with L1 regularization `C * sum(abs(coefficients))`.  For any value of `k`, a value of `C` can be found which gives an equivalent solution, and visa versa.\n",
    "\n",
    "## Algorithm\n",
    "\n",
    "In LARS, we consider the dataset as a set of vectors, one per feature.  For example, in the diabetes dataset, with 10 features, we have 10 vectors, each of length 442.  So, each axis in the vector represents one data point.   We normalize each vector to unit length."
   ]
  },
  {
   "cell_type": "code",
   "execution_count": 105,
   "metadata": {
    "collapsed": false
   },
   "outputs": [
    {
     "name": "stdout",
     "output_type": "stream",
     "text": [
      "toy.X [[-0.54790151  1.29491463]\n",
      " [ 0.49433234  0.5767346 ]]\n",
      "y [1 0]\n",
      "variate lengths [ 0.73794344  1.41754248]\n",
      "variate lengths [ 1.  1.]\n",
      "toy.X [[-0.74247087  0.91349264]\n",
      " [ 0.66987835  0.40685525]]\n",
      "toy.X [[-0.74247087  0.91349264]\n",
      " [ 0.66987835  0.40685525]]\n",
      "variate lengths [ 1.  1.]\n",
      "variate lengths [ 1.  1.]\n",
      "toy.X [[-0.74247087  0.91349264]\n",
      " [ 0.66987835  0.40685525]]\n",
      "cos_theta [-0.74247087  0.91349264]\n",
      "angle [ 137.94200107   24.0073829 ]\n"
     ]
    },
    {
     "data": {
      "image/png": "[encoded data removed]",
      "text/plain": [
       "<matplotlib.figure.Figure at 0x7f2dce5ef518>"
      ]
     },
     "metadata": {},
     "output_type": "display_data"
    }
   ],
   "source": [
    "## import matplotlib.pyplot as plt\n",
    "import numpy as np\n",
    "\n",
    "\n",
    "# Lets imagine a dataset with 2 features, and 2 data points\n",
    "\n",
    "# Not normalizing mean to 0 for now, otherwise we just can have two different covariant vectors, ie\n",
    "# (sqrt(2), -sqrt(2)), and (-sqrt(2), sqrt(2))\n",
    "\n",
    "class ToyData(object):\n",
    "    def __init__(self):\n",
    "        pass\n",
    "\n",
    "toy = ToyData()\n",
    "toy.m = 2\n",
    "toy.n = 2\n",
    "toy.rand = np.random.mtrand.RandomState(132)\n",
    "toy.X = toy.rand.randn(toy.n, toy.m)\n",
    "  \n",
    "print('toy.X', toy.X)\n",
    "toy.rand = np.random.mtrand.RandomState(122)\n",
    "toy.y = toy.rand.randint(0, 2, size=(toy.n,))\n",
    "print('y', toy.y)\n",
    "print('variate lengths', np.sqrt(np.sum(toy.X * toy.X, 0)))\n",
    "toy.X /= np.sqrt(np.sum(toy.X * toy.X, 0))\n",
    "print('variate lengths', np.sqrt(np.sum(toy.X * toy.X, 0)))\n",
    "print('toy.X', toy.X)\n",
    "#     toy.X -= np.average(toy.X, 0)\n",
    "print('toy.X', toy.X)\n",
    "print('variate lengths', np.sqrt(np.sum(toy.X * toy.X, 0)))\n",
    "toy.X /= np.sqrt(np.sum(toy.X * toy.X, 0))\n",
    "print('variate lengths', np.sqrt(np.sum(toy.X * toy.X, 0)))\n",
    "print('toy.X', toy.X)\n",
    "\n",
    "toy.residual = toy.y\n",
    "toy.cos_theta = toy.X.T.dot(toy.residual)\n",
    "toy.angle = np.arccos(toy.cos_theta) * 180 / 3.1416\n",
    "print('cos_theta', toy.cos_theta)\n",
    "print('angle', toy.angle)\n",
    "\n",
    "plt.ylim(-1.1, 1.1)\n",
    "plt.xlim(-1.1, 1.1)\n",
    "plt.xlabel('example 0')\n",
    "plt.ylabel('example 1')\n",
    "plt.scatter(toy.X[0], toy.X[1])\n",
    "plt.scatter(toy.y[0], toy.y[1], color='red')\n",
    "plt.show()\n",
    "\n",
    "# toy_stepone()"
   ]
  },
  {
   "cell_type": "markdown",
   "metadata": {},
   "source": [
    "We can see that covariate j=1, having angle 24.0 degrees, will get us closer to y fastest.  So, we will walk along that first.  Note that we can walk along the covariates in either direction, so we actually have a few more possibilities.  In the next plot, blue points are covariates in the positive direction, and green are the same covariates, in the negative direction."
   ]
  },
  {
   "cell_type": "code",
   "execution_count": 106,
   "metadata": {
    "collapsed": false
   },
   "outputs": [
    {
     "data": {
      "image/png": "[encoded data removed]",
      "text/plain": [
       "<matplotlib.figure.Figure at 0x7f2dce8420f0>"
      ]
     },
     "metadata": {},
     "output_type": "display_data"
    },
    {
     "name": "stdout",
     "output_type": "stream",
     "text": [
      "angle [ 137.94200107   24.0073829 ]\n",
      "angle [  42.05799893  155.9926171 ]\n"
     ]
    }
   ],
   "source": [
    "plt.ylim(-1.1, 1.1)\n",
    "plt.xlim(-1.1, 1.1)\n",
    "plt.xlabel('example 0')\n",
    "plt.ylabel('example 1')\n",
    "plt.scatter(toy.X[0], toy.X[1], color='blue')\n",
    "plt.scatter(-toy.X[0], -toy.X[1], color='green')\n",
    "plt.scatter(toy.y[0], toy.y[1], color='red')\n",
    "plt.show()\n",
    "\n",
    "print('angle', toy.angle)\n",
    "print('angle', 180 - toy.angle)\n"
   ]
  },
  {
   "cell_type": "markdown",
   "metadata": {},
   "source": [
    "So, covariate j=0, in the reverse direction could make progress towards the residual too, but not quite as fast.  So we will start walking along covariate j=1, in the positive direction.\n",
    "\n",
    "As we walk along j=1, the residual will gradually rotate, clockwise.  At some point, the j=0 covariate, in the reverse direction, will have an angle that will move in the residual direction faster."
   ]
  },
  {
   "cell_type": "markdown",
   "metadata": {},
   "source": [
    "So, there will be two directions we will walk along:\n",
    "    - covariate j=1, positive direction, and then, per the LARS algorithm:\n",
    "    - a vector midway between covariate j=1, in positive direction, and covariate j=0, in negative direction\n",
    "    \n",
    "In the following plot:\n",
    "- blue vector is covariate j=1\n",
    "- green vector is negative covariate j=0\n",
    "- purple vector is equi-angular between the two"
   ]
  },
  {
   "cell_type": "code",
   "execution_count": 111,
   "metadata": {
    "collapsed": false
   },
   "outputs": [
    {
     "data": {
      "image/png": "[encoded data removed]",
      "text/plain": [
       "<matplotlib.figure.Figure at 0x7f2dcea90828>"
      ]
     },
     "metadata": {},
     "output_type": "display_data"
    }
   ],
   "source": [
    "toy.walk0 = toy.X[:, 1]\n",
    "toy.walk1 = toy.X[:, 1] - toy.X[:, 0]\n",
    "# normalize length to 1:\n",
    "toy.walk1 /= np.sqrt(np.sum(toy.walk1 * toy.walk1))\n",
    "\n",
    "plt.ylim(-1.1, 1.1)\n",
    "plt.xlim(-1.1, 1.1)\n",
    "plt.xlabel('example 0')\n",
    "plt.ylabel('example 1')\n",
    "plt.plot((0, toy.walk0[0]), (0, toy.walk0[1]), color='blue')\n",
    "plt.plot((0, - toy.X[0, 0]), (0, -toy.X[1, 0]), color='green')\n",
    "plt.plot((0, toy.walk1[0]), (0, toy.walk1[1]), color='purple')\n",
    "# plt.scatter(-toy.X[0], -toy.X[1], color='green')\n",
    "plt.scatter(toy.y[0], toy.y[1], color='red')\n",
    "plt.show()"
   ]
  },
  {
   "cell_type": "markdown",
   "metadata": {},
   "source": [
    "Next, the result should be the residual (in this case, with 2 examples, and 2 features, since we get an exact solution), so we have:\n",
    "\n",
    "```\n",
    "a_0 * walk0 + a_1 * walk1 = y\n",
    "```\n",
    "Out of this, we know `walk0`, `walk1`, `y`.  `a_0` and `a_1` are scalars.  `walk0` and `walk1` are 2-dimensional vectors, so this is two equations, in two unknowns.  Solution is:"
   ]
  },
  {
   "cell_type": "code",
   "execution_count": 115,
   "metadata": {
    "collapsed": false
   },
   "outputs": [
    {
     "name": "stdout",
     "output_type": "stream",
     "text": [
      "[ 0.28776921  0.74636522]\n"
     ]
    }
   ],
   "source": [
    "import numpy as np\n",
    "\n",
    "toy.sa = np.zeros((2, 2), dtype=np.float32)\n",
    "toy.sa[:, 0] = toy.walk0\n",
    "toy.sa[:, 1] = toy.walk1\n",
    "toy.sb = toy.y\n",
    "toy.sx = np.linalg.solve(toy.sa, toy.sb)\n",
    "\n",
    "print(toy.sx)"
   ]
  },
  {
   "cell_type": "markdown",
   "metadata": {},
   "source": [
    "check:"
   ]
  },
  {
   "cell_type": "code",
   "execution_count": 116,
   "metadata": {
    "collapsed": false
   },
   "outputs": [
    {
     "name": "stdout",
     "output_type": "stream",
     "text": [
      "[  1.00000003e+00   1.30687267e-09]\n"
     ]
    }
   ],
   "source": [
    "print(toy.sx[0] * toy.walk0 + toy.sx[1] * toy.walk1)"
   ]
  },
  {
   "cell_type": "markdown",
   "metadata": {},
   "source": [
    "It equals `y`, as required."
   ]
  },
  {
   "cell_type": "markdown",
   "metadata": {},
   "source": [
    "So, this looks like:"
   ]
  },
  {
   "cell_type": "code",
   "execution_count": 123,
   "metadata": {
    "collapsed": false
   },
   "outputs": [
    {
     "data": {
      "image/png": "[encoded data removed]",
      "text/plain": [
       "<matplotlib.figure.Figure at 0x7f2dce470588>"
      ]
     },
     "metadata": {},
     "output_type": "display_data"
    }
   ],
   "source": [
    "plt.ylim(-1.1, 1.1)\n",
    "plt.xlim(-1.1, 1.1)\n",
    "plt.xlabel('example 0')\n",
    "plt.ylabel('example 1')\n",
    "\n",
    "toy.p0 = np.zeros((2,))\n",
    "toy.p1 = toy.p0 + toy.sx[0] * toy.walk0\n",
    "toy.p2 = toy.p1 + toy.sx[1] * toy.walk1\n",
    "\n",
    "plt.plot((toy.p0[0], toy.p1[0]), (toy.p0[1], toy.p1[1]), color='blue')\n",
    "plt.plot((toy.p1[0], toy.p2[0]), (toy.p1[1], toy.p2[1]), color='purple')\n",
    "plt.scatter(toy.y[0], toy.y[1], color='red')\n",
    "plt.show()"
   ]
  },
  {
   "cell_type": "markdown",
   "metadata": {},
   "source": [
    "Note that the actual LARS calculates the `gamma` values, ie the step sizes, in closed form, without needing to call out to a solver."
   ]
  },
  {
   "cell_type": "markdown",
   "metadata": {},
   "source": [
    "## Diabetes dataset"
   ]
  },
  {
   "cell_type": "code",
   "execution_count": 125,
   "metadata": {
    "collapsed": false
   },
   "outputs": [
    {
     "name": "stdout",
     "output_type": "stream",
     "text": [
      "[ 1.  1.  1.  1.  1.  1.  1.  1.  1.  1.]\n",
      "[ 0.  0.  0.  0.  0.  0.  0.  0.  0.  0.]\n",
      "-7.71630120282e-15\n",
      "nan\n",
      "j 2\n",
      "mse 1618.95309519\n",
      "largest_abs_correlation 949.435260384\n",
      "next j 8 next sign 1 gamma 60.1192696491 new max correlation: 889.315990735\n",
      "beta [  0.           0.          60.11927032   0.           0.           0.           0.\n",
      "   0.           0.           0.        ]\n",
      "mse 1584.44461593\n",
      "largest_abs_correlation 889.315990434\n",
      "next j 3 next sign 1 gamma 513.223718805 new max correlation: 452.900968682\n",
      "beta [   0.            0.          361.8946228     0.            0.            0.\n",
      "    0.            0.          301.77532959    0.        ]\n",
      "mse 1303.98189348\n",
      "largest_abs_correlation 452.900977508\n",
      "next j 6 next sign -1 gamma 175.553241509 new max correlation: 316.074046695\n",
      "beta [   0.            0.          434.75796509   79.23645782    0.            0.\n",
      "    0.            0.          374.91583252    0.        ]\n",
      "mse 1235.78501888\n",
      "largest_abs_correlation 316.074050463\n",
      "next j 1 next sign -1 gamma 259.367463588 new max correlation: 130.130852281\n",
      "beta [   0.            0.          505.65957642  191.26989746    0.            0.\n",
      " -114.10097504    0.          439.66494751    0.        ]\n",
      "mse 1168.64636101\n",
      "largest_abs_correlation 130.130855252\n",
      "next j 9 next sign 1 gamma 88.6592434197 new max correlation: 88.78239233\n",
      "beta [   0.          -74.91658783  511.3480835   234.15467834    0.            0.\n",
      " -169.71144104    0.          450.66744995    0.        ]\n",
      "mse 1150.70338892\n",
      "largest_abs_correlation 88.7824021205\n",
      "next j 4 next sign -1 gamma 43.6778647246 new max correlation: 68.9652246528\n",
      "beta [   0.         -111.97856903  512.04412842  252.52705383    0.            0.\n",
      " -196.04545593    0.          452.39273071   12.07813358]\n",
      "mse 1144.08577946\n",
      "largest_abs_correlation 68.9652343995\n",
      "next j 7 next sign 1 gamma 135.984204485 new max correlation: 19.981223036\n",
      "beta [   0.         -197.7565918   522.26489258  297.15982056 -103.94634247\n",
      "    0.         -223.92607117    0.          514.74951172   54.7677002 ]\n",
      "mse 1129.31597347\n",
      "largest_abs_correlation 19.9812400084\n",
      "next j 5 next sign 1 gamma 54.0155000346 new max correlation: 5.47748594776\n",
      "beta [   0.         -226.13369751  526.88549805  314.38931274 -195.10574341\n",
      "    0.         -152.47743225  106.34260559  529.91601562   64.48741913]\n",
      "mse 1127.04619376\n",
      "largest_abs_correlation 5.47749602147\n",
      "next j 0 next sign -1 gamma 5.56739873746 new max correlation: 5.08919023842\n",
      "beta [   0.         -227.17585754  526.390625    314.95053101 -237.34214783\n",
      "   33.62928391 -134.59898376  111.38407898  545.48303223   64.60667419]\n",
      "mse 1126.67193839\n",
      "largest_abs_correlation 5.08919259589\n",
      "next j 0 next sign -1 gamma 73.5292718619 new max correlation: 0.0\n",
      "beta [ -10.01222515 -239.81918335  519.83978271  324.39050293 -792.18682861\n",
      "  476.74804688  101.045578    177.06430054  751.28033447   67.62539673]\n",
      "beta_path [[   0.            0.           60.11927032    0.            0.            0.\n",
      "     0.            0.            0.            0.        ]\n",
      " [   0.            0.          361.8946228     0.            0.            0.\n",
      "     0.            0.          301.77532959    0.        ]\n",
      " [   0.            0.          434.75796509   79.23645782    0.            0.\n",
      "     0.            0.          374.91583252    0.        ]\n",
      " [   0.            0.          505.65957642  191.26989746    0.            0.\n",
      "  -114.10097504    0.          439.66494751    0.        ]\n",
      " [   0.          -74.91658783  511.3480835   234.15467834    0.            0.\n",
      "  -169.71144104    0.          450.66744995    0.        ]\n",
      " [   0.         -111.97856903  512.04412842  252.52705383    0.            0.\n",
      "  -196.04545593    0.          452.39273071   12.07813358]\n",
      " [   0.         -197.7565918   522.26489258  297.15982056 -103.94634247\n",
      "     0.         -223.92607117    0.          514.74951172   54.7677002 ]\n",
      " [   0.         -226.13369751  526.88549805  314.38931274 -195.10574341\n",
      "     0.         -152.47743225  106.34260559  529.91601562   64.48741913]\n",
      " [   0.         -227.17585754  526.390625    314.95053101 -237.34214783\n",
      "    33.62928391 -134.59898376  111.38407898  545.48303223   64.60667419]\n",
      " [ -10.01222515 -239.81918335  519.83978271  324.39050293 -792.18682861\n",
      "   476.74804688  101.045578    177.06430054  751.28033447   67.62539673]]\n",
      "sum_abs_coeff [   60.11927032   663.66992188   888.91027832  1250.6953125   1440.79821777\n",
      "  1537.06604004  1914.57092285  2115.73754883  2195.5612793   3460.01220703]\n"
     ]
    },
    {
     "name": "stderr",
     "output_type": "stream",
     "text": [
      "/home/ubuntu/.local/lib/python3.5/site-packages/numpy/core/_methods.py:59: RuntimeWarning: Mean of empty slice.\n",
      "  warnings.warn(\"Mean of empty slice.\", RuntimeWarning)\n",
      "/home/ubuntu/.local/lib/python3.5/site-packages/numpy/core/_methods.py:70: RuntimeWarning: invalid value encountered in double_scalars\n",
      "  ret = ret.dtype.type(ret / rcount)\n"
     ]
    }
   ],
   "source": [
    "import numpy as np\n",
    "import sklearn.datasets\n",
    "import matplotlib.pyplot as plt\n",
    "\n",
    "\n",
    "diabetes_train_splitsize = 1.0\n",
    "\n",
    "beta_path = None\n",
    "sum_abs_coeff = None\n",
    "\n",
    "\n",
    "def fetch_diabetes(subset='train'):\n",
    "    diabetes = sklearn.datasets.load_diabetes()\n",
    "    X_all = diabetes.data\n",
    "    y_all = diabetes.target\n",
    "\n",
    "    total_N = len(y_all)\n",
    "    train_N = int(total_N * diabetes_train_splitsize)\n",
    "    test_N = total_N - train_N\n",
    "    rand = np.random.mtrand.RandomState(seed=123)\n",
    "    train_idx = set(rand.choice(total_N, size=(train_N,), replace=False))\n",
    "\n",
    "    train_X = X_all[list(train_idx)]\n",
    "    train_y = y_all[list(train_idx)]\n",
    "\n",
    "    test_idx = np.zeros((test_N,), dtype=np.int32)\n",
    "    test_n = 0\n",
    "    for n in range(total_N):\n",
    "        if n not in train_idx:\n",
    "            test_idx[test_n] = n\n",
    "            test_n += 1\n",
    "    test_X = X_all[test_idx]\n",
    "    test_y = y_all[test_idx]\n",
    "\n",
    "    def get_add_mul(X):\n",
    "        add = - np.average(X, 0)\n",
    "        X1 = X + add\n",
    "        mul = 1 / np.sqrt((X1 * X1).sum(0))\n",
    "        return add, mul\n",
    "\n",
    "    X_add, X_mul = get_add_mul(train_X)\n",
    "    y_add = - np.average(train_y)\n",
    "\n",
    "    train_X = (train_X + X_add) * X_mul\n",
    "    train_y = train_y + y_add\n",
    "    if len(test_X) > 0:\n",
    "        test_X = (test_X + X_add) * X_mul\n",
    "        test_y = test_y + y_add\n",
    "\n",
    "    if subset == 'train':\n",
    "        return sklearn.datasets.base.Bunch(data=train_X, target=train_y)\n",
    "    elif subset == 'test':\n",
    "        return sklearn.datasets.base.Bunch(data=test_X, target=test_y)\n",
    "    else:\n",
    "        raise Exception('unknown subset %s' % subset)\n",
    "\n",
    "\n",
    "def vector_len(vector):\n",
    "    return np.sqrt(np.sum(vector * vector))\n",
    "\n",
    "\n",
    "def run_lars(train):\n",
    "    global beta_path, sum_abs_coeff\n",
    "\n",
    "    X = train.data\n",
    "    y = train.target\n",
    "    m = len(X[0])\n",
    "    n = len(X)\n",
    "\n",
    "    active_set = set()\n",
    "    cur_pred = np.zeros((n,), dtype=np.float32)\n",
    "    residual = y - cur_pred\n",
    "    cur_corr = X.transpose().dot(residual)\n",
    "    j = np.argmax(np.abs(cur_corr), 0)\n",
    "    print('j', j)\n",
    "    active_set.add(j)\n",
    "    beta = np.zeros((m,), dtype=np.float32)\n",
    "    sign = np.zeros((m,), dtype=np.int32)\n",
    "    sign[j] = 1\n",
    "\n",
    "    beta_path = np.zeros((m, m), dtype=np.float32)\n",
    "    for it in range(m):\n",
    "        residual = y - cur_pred\n",
    "        mse = np.sqrt(np.sum(residual * residual))\n",
    "        print('mse', mse)\n",
    "\n",
    "        pred_from_beta = X.dot(beta)\n",
    "\n",
    "        cur_corr = X.transpose().dot(residual)\n",
    "\n",
    "        X_a = X[:, list(active_set)]\n",
    "        X_a *= sign[list(active_set)]\n",
    "        G_a = X_a.transpose().dot(X_a)\n",
    "        G_a_inv = np.linalg.inv(G_a)\n",
    "        G_a_inv_red_cols = np.sum(G_a_inv, 1)\n",
    "        A_a = 1 / np.sqrt(np.sum(G_a_inv_red_cols))\n",
    "        omega = A_a * G_a_inv_red_cols\n",
    "        equiangular = X_a.dot(omega)  # .reshape(n)\n",
    "\n",
    "        cos_angle = X.transpose().dot(equiangular)\n",
    "        gamma = None\n",
    "        largest_abs_correlation = np.abs(cur_corr).max()\n",
    "        print('largest_abs_correlation', largest_abs_correlation)\n",
    "        if it < m - 1:\n",
    "            next_j = None\n",
    "            next_sign = 0\n",
    "            for j in range(m):\n",
    "                if j in active_set:\n",
    "                    continue\n",
    "                v0 = (largest_abs_correlation - cur_corr[j]) / (A_a - cos_angle[j]).item()\n",
    "                v1 = (largest_abs_correlation + cur_corr[j]) / (A_a + cos_angle[j]).item()\n",
    "                if v0 > 0 and (gamma is None or v0 < gamma):\n",
    "                    next_j = j\n",
    "                    gamma = v0\n",
    "                    next_sign = 1\n",
    "                if v1 > 0 and (gamma is None or v1 < gamma):\n",
    "                    gamma = v1\n",
    "                    next_j = j\n",
    "                    next_sign = -1\n",
    "        else:\n",
    "            gamma = largest_abs_correlation / A_a\n",
    "\n",
    "        # coeffs, eg for 3 vectors\n",
    "        #\n",
    "        # I reckon there should be a faster (ie closed-form) way of doing this, but this way works for now:\n",
    "        #\n",
    "        # c_0 * x_0 + c_1 * x_1 + c_2 * x_2 = equiangular\n",
    "        # we know: x_0, x_1, x_2, equiangular\n",
    "        # they're all vectors, so equation must hold for each dimension\n",
    "        # ie, we have equations:\n",
    "        # c_0 * x_0_0 + c_1 * x_1_0 + c_2 * x_2_0 = equi_0\n",
    "        # c_0 * x_0_1 + c_1 * x_1_1 + c_2 * x_2_1 = equi_1\n",
    "        # c_0 * x_0_2 + c_1 * x_1_2 + c_2 * x_2_2 = equi_2\n",
    "        # ...\n",
    "        # comparing with doc at\n",
    "        # https://docs.scipy.org/doc/numpy/reference/generated/numpy.linalg.solve.html#numpy.linalg.solve\n",
    "        # their x_0, x_1, x_2 is our c_0, c_1, c_2\n",
    "        # their constants are our x_0_0, ...\n",
    "        # edit since not square, trying\n",
    "        # https://docs.scipy.org/doc/numpy/reference/generated/numpy.linalg.lstsq.html#numpy.linalg.lstsq\n",
    "        sa = X_a\n",
    "        sb = equiangular * gamma\n",
    "        sx = np.linalg.lstsq(sa, sb)\n",
    "        for i, j in enumerate(active_set):\n",
    "            beta[j] += sx[0][i] * sign[j]\n",
    "\n",
    "        print('next j', next_j, 'next sign', next_sign, 'gamma', gamma, 'new max correlation: %s' % (\n",
    "            largest_abs_correlation - gamma * A_a))\n",
    "\n",
    "        cur_pred = X.dot(beta)\n",
    "        active_set.add(next_j)\n",
    "        sign[next_j] = next_sign\n",
    "\n",
    "        beta_path[it, :] = beta\n",
    "        print('beta', beta)\n",
    "\n",
    "    print('beta_path', beta_path)\n",
    "    sum_abs_coeff = np.sum(np.abs(beta_path), 1)\n",
    "    print('sum_abs_coeff', sum_abs_coeff)\n",
    "    \n",
    "\n",
    "def run():\n",
    "    train = fetch_diabetes(subset='train')\n",
    "    test = fetch_diabetes(subset='test')\n",
    "    print((train.data * train.data).sum(0))\n",
    "    print((test.data * test.data).sum(0))\n",
    "    print(np.average(train.target, 0))\n",
    "    print(np.average(test.target, 0))\n",
    "    run_lars(train)\n",
    "\n",
    "\n",
    "run()"
   ]
  },
  {
   "cell_type": "code",
   "execution_count": 10,
   "metadata": {
    "collapsed": false
   },
   "outputs": [
    {
     "data": {
      "image/png": "[encoded data removed]",
      "text/plain": [
       "<matplotlib.figure.Figure at 0x7fd9a3d0d9e8>"
      ]
     },
     "metadata": {},
     "output_type": "display_data"
    }
   ],
   "source": [
    "# plotting code is based on:\n",
    "# http://scikit-learn.org/stable/auto_examples/linear_model/plot_lasso_lars.html\n",
    "plt.plot(sum_abs_coeff, beta_path)\n",
    "plt.title('LARS Path')\n",
    "plt.ylabel('beta_j')\n",
    "plt.xlabel('sum_j(|coeff_j|)')\n",
    "plt.show()\n"
   ]
  }
 ],
 "metadata": {
  "kernelspec": {
   "display_name": "Python 3",
   "language": "python",
   "name": "python3"
  },
  "language_info": {
   "codemirror_mode": {
    "name": "ipython",
    "version": 3
   },
   "file_extension": ".py",
   "mimetype": "text/x-python",
   "name": "python",
   "nbconvert_exporter": "python",
   "pygments_lexer": "ipython3",
   "version": "3.5.2"
  }
 },
 "nbformat": 4,
 "nbformat_minor": 2
}
